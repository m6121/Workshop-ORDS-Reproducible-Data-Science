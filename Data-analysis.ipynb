{
 "cells": [
  {
   "cell_type": "markdown",
   "metadata": {},
   "source": [
    "# How to create an executable statistical report\n",
    "\n",
    "_Max Schröder_ and _Frank Krüger_\n",
    "\n",
    "(this notebook is heavily based on the statistical report from Anja Eggert but translated to Python. The original report is available from: https://github.com/AnjaEggert/ords-kick-off)\n",
    "\n",
    "2020-12-01\n",
    "\n",
    "Specify the parameters of the notebook at the very beginning. This notebook has the following parameters:\n",
    " * `kmeans_k` which controls the number of components for clustering"
   ]
  },
  {
   "cell_type": "code",
   "execution_count": 1,
   "metadata": {
    "ExecuteTime": {
     "end_time": "2021-01-15T11:04:10.157017Z",
     "start_time": "2021-01-15T11:04:10.153733Z"
    },
    "tags": [
     "parameters"
    ]
   },
   "outputs": [],
   "source": [
    "kmeans_k = 2"
   ]
  },
  {
   "cell_type": "markdown",
   "metadata": {
    "ExecuteTime": {
     "end_time": "2020-12-01T12:49:31.694789Z",
     "start_time": "2020-12-01T12:49:31.680695Z"
    }
   },
   "source": [
    "## Load required packages\n",
    "\n",
    "All required packages are loaded at the begin of the notebook to provide an overview of the requirements. For most data science and/or statistical analysis, we need packages from the following four groups:\n",
    " * data handling\n",
    " * statistical analysis\n",
    " * data transformation and machine learning\n",
    " * visualization"
   ]
  },
  {
   "cell_type": "code",
   "execution_count": 2,
   "metadata": {
    "ExecuteTime": {
     "end_time": "2021-01-15T11:04:11.327758Z",
     "start_time": "2021-01-15T11:04:10.180905Z"
    }
   },
   "outputs": [],
   "source": [
    "# general data handling\n",
    "import numpy as np\n",
    "import pandas as pd\n",
    "\n",
    "\n",
    "# statistics\n",
    "from scipy import stats\n",
    "from statsmodels.stats.multitest import multipletests\n",
    "\n",
    "\n",
    "# basic math function\n",
    "import math\n",
    "\n",
    "# machine learning, data transformation\n",
    "from sklearn.cluster import KMeans\n",
    "from sklearn.preprocessing import scale\n",
    "from sklearn.decomposition import PCA\n",
    "\n",
    "# visualisation\n",
    "import matplotlib\n",
    "import matplotlib.pyplot as plt\n",
    "import seaborn as sns"
   ]
  },
  {
   "cell_type": "markdown",
   "metadata": {},
   "source": [
    "## Read and inspect data\n",
    "\n",
    "### Data set description\n",
    "Shotgun lipidomics was applied and 335 single metabolites were measured in two experimental groups with 14 samples in the control group and 14 samples in the treatment group. The single metabolites can be assigned to 15 lipid classes.\n",
    "\n",
    "Lipid concentrations are given normalized to total lipids: nmol/mg lipid.\n",
    "\n",
    "**Aim**: Detect significant differences between groups of single fatty acid metabolites (or sum of metabolites).\n",
    "\n",
    "### Load data\n",
    "\n",
    "Data is often saved in Excel files. This has several disadvantages with respect to data quality (see http://www.eusprig.org/horror-stories.htm). For the time being, we ignore disadvantages and just load the data by using the `pandas` function `read_excel`. After loading an overview of the first 10 rows and 6 columns is provided. "
   ]
  },
  {
   "cell_type": "code",
   "execution_count": 3,
   "metadata": {
    "ExecuteTime": {
     "end_time": "2021-01-15T11:04:11.977123Z",
     "start_time": "2021-01-15T11:04:11.329931Z"
    }
   },
   "outputs": [
    {
     "data": {
      "text/html": [
       "<div>\n",
       "<style scoped>\n",
       "    .dataframe tbody tr th:only-of-type {\n",
       "        vertical-align: middle;\n",
       "    }\n",
       "\n",
       "    .dataframe tbody tr th {\n",
       "        vertical-align: top;\n",
       "    }\n",
       "\n",
       "    .dataframe thead th {\n",
       "        text-align: right;\n",
       "    }\n",
       "</style>\n",
       "<table border=\"1\" class=\"dataframe\">\n",
       "  <thead>\n",
       "    <tr style=\"text-align: right;\">\n",
       "      <th></th>\n",
       "      <th>sample</th>\n",
       "      <th>group</th>\n",
       "      <th>LEG in kg</th>\n",
       "      <th>ADFI in g</th>\n",
       "      <th>PC 14:0_16:0</th>\n",
       "      <th>PC 14:0_18:2</th>\n",
       "    </tr>\n",
       "  </thead>\n",
       "  <tbody>\n",
       "    <tr>\n",
       "      <th>0</th>\n",
       "      <td>1</td>\n",
       "      <td>k</td>\n",
       "      <td>96.9</td>\n",
       "      <td>2307.4</td>\n",
       "      <td>0.327597</td>\n",
       "      <td>0.542359</td>\n",
       "    </tr>\n",
       "    <tr>\n",
       "      <th>1</th>\n",
       "      <td>2</td>\n",
       "      <td>k</td>\n",
       "      <td>104.7</td>\n",
       "      <td>2496.5</td>\n",
       "      <td>0.232461</td>\n",
       "      <td>0.537308</td>\n",
       "    </tr>\n",
       "    <tr>\n",
       "      <th>2</th>\n",
       "      <td>3</td>\n",
       "      <td>k</td>\n",
       "      <td>110.5</td>\n",
       "      <td>2817.3</td>\n",
       "      <td>0.188939</td>\n",
       "      <td>0.642418</td>\n",
       "    </tr>\n",
       "    <tr>\n",
       "      <th>3</th>\n",
       "      <td>4</td>\n",
       "      <td>k</td>\n",
       "      <td>91.8</td>\n",
       "      <td>2182.6</td>\n",
       "      <td>0.315606</td>\n",
       "      <td>0.607394</td>\n",
       "    </tr>\n",
       "    <tr>\n",
       "      <th>4</th>\n",
       "      <td>5</td>\n",
       "      <td>k</td>\n",
       "      <td>98.0</td>\n",
       "      <td>2389.4</td>\n",
       "      <td>0.342605</td>\n",
       "      <td>0.932198</td>\n",
       "    </tr>\n",
       "    <tr>\n",
       "      <th>5</th>\n",
       "      <td>6</td>\n",
       "      <td>k</td>\n",
       "      <td>95.3</td>\n",
       "      <td>2175.3</td>\n",
       "      <td>0.346377</td>\n",
       "      <td>0.845904</td>\n",
       "    </tr>\n",
       "    <tr>\n",
       "      <th>6</th>\n",
       "      <td>7</td>\n",
       "      <td>k</td>\n",
       "      <td>90.7</td>\n",
       "      <td>2126.0</td>\n",
       "      <td>0.352771</td>\n",
       "      <td>0.844983</td>\n",
       "    </tr>\n",
       "    <tr>\n",
       "      <th>7</th>\n",
       "      <td>8</td>\n",
       "      <td>k</td>\n",
       "      <td>99.9</td>\n",
       "      <td>2525.3</td>\n",
       "      <td>0.244824</td>\n",
       "      <td>0.745240</td>\n",
       "    </tr>\n",
       "    <tr>\n",
       "      <th>8</th>\n",
       "      <td>9</td>\n",
       "      <td>k</td>\n",
       "      <td>109.9</td>\n",
       "      <td>2450.4</td>\n",
       "      <td>0.289473</td>\n",
       "      <td>0.889802</td>\n",
       "    </tr>\n",
       "    <tr>\n",
       "      <th>9</th>\n",
       "      <td>10</td>\n",
       "      <td>k</td>\n",
       "      <td>108.9</td>\n",
       "      <td>2616.3</td>\n",
       "      <td>0.288564</td>\n",
       "      <td>0.642161</td>\n",
       "    </tr>\n",
       "  </tbody>\n",
       "</table>\n",
       "</div>"
      ],
      "text/plain": [
       "   sample group  LEG in kg  ADFI in g  PC 14:0_16:0  PC 14:0_18:2\n",
       "0       1     k       96.9     2307.4      0.327597      0.542359\n",
       "1       2     k      104.7     2496.5      0.232461      0.537308\n",
       "2       3     k      110.5     2817.3      0.188939      0.642418\n",
       "3       4     k       91.8     2182.6      0.315606      0.607394\n",
       "4       5     k       98.0     2389.4      0.342605      0.932198\n",
       "5       6     k       95.3     2175.3      0.346377      0.845904\n",
       "6       7     k       90.7     2126.0      0.352771      0.844983\n",
       "7       8     k       99.9     2525.3      0.244824      0.745240\n",
       "8       9     k      109.9     2450.4      0.289473      0.889802\n",
       "9      10     k      108.9     2616.3      0.288564      0.642161"
      ]
     },
     "execution_count": 3,
     "metadata": {},
     "output_type": "execute_result"
    }
   ],
   "source": [
    "data = pd.read_excel('Rmarkdown-workshop/data/data-lipidomics-28samples.xlsx')\n",
    "data.iloc[:10,:6]"
   ]
  },
  {
   "cell_type": "markdown",
   "metadata": {},
   "source": [
    "### Data preprocessing\n",
    "\n",
    "The following preprocessing steps are done:\n",
    "* Recode the factors to improve comprehensibility\n",
    "* Remove invalid measurements such as `0` and `NA`'s\n",
    "* Transform data table from wide to long format\n",
    "* Select variables of interest (here, remove the summary variables, as we will do this on ourselves)\n",
    "\n",
    "Some recommendations for working with spreadsheets are given here: https://doi.org/10.1080/00031305.2017.1375989"
   ]
  },
  {
   "cell_type": "code",
   "execution_count": 4,
   "metadata": {
    "ExecuteTime": {
     "end_time": "2021-01-15T11:04:12.017613Z",
     "start_time": "2021-01-15T11:04:11.979025Z"
    }
   },
   "outputs": [
    {
     "data": {
      "text/html": [
       "<div>\n",
       "<style scoped>\n",
       "    .dataframe tbody tr th:only-of-type {\n",
       "        vertical-align: middle;\n",
       "    }\n",
       "\n",
       "    .dataframe tbody tr th {\n",
       "        vertical-align: top;\n",
       "    }\n",
       "\n",
       "    .dataframe thead th {\n",
       "        text-align: right;\n",
       "    }\n",
       "</style>\n",
       "<table border=\"1\" class=\"dataframe\">\n",
       "  <thead>\n",
       "    <tr style=\"text-align: right;\">\n",
       "      <th></th>\n",
       "      <th>group</th>\n",
       "      <th>sample</th>\n",
       "      <th>LEG in kg</th>\n",
       "      <th>ADFI in g</th>\n",
       "      <th>lipid</th>\n",
       "      <th>concentration</th>\n",
       "    </tr>\n",
       "  </thead>\n",
       "  <tbody>\n",
       "    <tr>\n",
       "      <th>0</th>\n",
       "      <td>control</td>\n",
       "      <td>1</td>\n",
       "      <td>96.9</td>\n",
       "      <td>2307.4</td>\n",
       "      <td>PC 14:0_16:0</td>\n",
       "      <td>0.327597</td>\n",
       "    </tr>\n",
       "    <tr>\n",
       "      <th>1</th>\n",
       "      <td>control</td>\n",
       "      <td>2</td>\n",
       "      <td>104.7</td>\n",
       "      <td>2496.5</td>\n",
       "      <td>PC 14:0_16:0</td>\n",
       "      <td>0.232461</td>\n",
       "    </tr>\n",
       "    <tr>\n",
       "      <th>2</th>\n",
       "      <td>control</td>\n",
       "      <td>3</td>\n",
       "      <td>110.5</td>\n",
       "      <td>2817.3</td>\n",
       "      <td>PC 14:0_16:0</td>\n",
       "      <td>0.188939</td>\n",
       "    </tr>\n",
       "    <tr>\n",
       "      <th>3</th>\n",
       "      <td>control</td>\n",
       "      <td>4</td>\n",
       "      <td>91.8</td>\n",
       "      <td>2182.6</td>\n",
       "      <td>PC 14:0_16:0</td>\n",
       "      <td>0.315606</td>\n",
       "    </tr>\n",
       "    <tr>\n",
       "      <th>4</th>\n",
       "      <td>control</td>\n",
       "      <td>5</td>\n",
       "      <td>98.0</td>\n",
       "      <td>2389.4</td>\n",
       "      <td>PC 14:0_16:0</td>\n",
       "      <td>0.342605</td>\n",
       "    </tr>\n",
       "    <tr>\n",
       "      <th>...</th>\n",
       "      <td>...</td>\n",
       "      <td>...</td>\n",
       "      <td>...</td>\n",
       "      <td>...</td>\n",
       "      <td>...</td>\n",
       "      <td>...</td>\n",
       "    </tr>\n",
       "    <tr>\n",
       "      <th>9795</th>\n",
       "      <td>treatment</td>\n",
       "      <td>24</td>\n",
       "      <td>92.5</td>\n",
       "      <td>1953.2</td>\n",
       "      <td>LPG 18:1</td>\n",
       "      <td>0.090964</td>\n",
       "    </tr>\n",
       "    <tr>\n",
       "      <th>9796</th>\n",
       "      <td>treatment</td>\n",
       "      <td>25</td>\n",
       "      <td>85.6</td>\n",
       "      <td>2011.7</td>\n",
       "      <td>LPG 18:1</td>\n",
       "      <td>0.107179</td>\n",
       "    </tr>\n",
       "    <tr>\n",
       "      <th>9797</th>\n",
       "      <td>treatment</td>\n",
       "      <td>26</td>\n",
       "      <td>101.8</td>\n",
       "      <td>2402.4</td>\n",
       "      <td>LPG 18:1</td>\n",
       "      <td>0.101568</td>\n",
       "    </tr>\n",
       "    <tr>\n",
       "      <th>9798</th>\n",
       "      <td>treatment</td>\n",
       "      <td>27</td>\n",
       "      <td>90.1</td>\n",
       "      <td>2058.6</td>\n",
       "      <td>LPG 18:1</td>\n",
       "      <td>0.050705</td>\n",
       "    </tr>\n",
       "    <tr>\n",
       "      <th>9799</th>\n",
       "      <td>treatment</td>\n",
       "      <td>28</td>\n",
       "      <td>90.2</td>\n",
       "      <td>2211.0</td>\n",
       "      <td>LPG 18:1</td>\n",
       "      <td>0.093053</td>\n",
       "    </tr>\n",
       "  </tbody>\n",
       "</table>\n",
       "<p>9380 rows × 6 columns</p>\n",
       "</div>"
      ],
      "text/plain": [
       "          group  sample  LEG in kg  ADFI in g         lipid  concentration\n",
       "0       control       1       96.9     2307.4  PC 14:0_16:0       0.327597\n",
       "1       control       2      104.7     2496.5  PC 14:0_16:0       0.232461\n",
       "2       control       3      110.5     2817.3  PC 14:0_16:0       0.188939\n",
       "3       control       4       91.8     2182.6  PC 14:0_16:0       0.315606\n",
       "4       control       5       98.0     2389.4  PC 14:0_16:0       0.342605\n",
       "...         ...     ...        ...        ...           ...            ...\n",
       "9795  treatment      24       92.5     1953.2      LPG 18:1       0.090964\n",
       "9796  treatment      25       85.6     2011.7      LPG 18:1       0.107179\n",
       "9797  treatment      26      101.8     2402.4      LPG 18:1       0.101568\n",
       "9798  treatment      27       90.1     2058.6      LPG 18:1       0.050705\n",
       "9799  treatment      28       90.2     2211.0      LPG 18:1       0.093053\n",
       "\n",
       "[9380 rows x 6 columns]"
      ]
     },
     "execution_count": 4,
     "metadata": {},
     "output_type": "execute_result"
    }
   ],
   "source": [
    "# rename groups 'k' and 'v'\n",
    "data = data.replace({'group': {'k':'control', 'v':'treatment'}})\n",
    "# replace '0' and 'na' by 0.001\n",
    "data = data.mask(data==0).fillna(0.001)\n",
    "\n",
    "# convert to long format\n",
    "data = pd.melt(data, id_vars=['group','sample','LEG in kg','ADFI in g'], var_name='lipid', value_name='concentration')\n",
    "\n",
    "# take 'real' lipids only\n",
    "data = data[data['lipid'].str.contains(\":\")]\n",
    "data"
   ]
  },
  {
   "cell_type": "markdown",
   "metadata": {},
   "source": [
    "### Data summary\n",
    "\n",
    "Take a quick look at the mean and standard deviation of all measurements from the different groups to get a first intuition of the data."
   ]
  },
  {
   "cell_type": "code",
   "execution_count": 5,
   "metadata": {
    "ExecuteTime": {
     "end_time": "2021-01-15T11:04:12.050371Z",
     "start_time": "2021-01-15T11:04:12.019412Z"
    }
   },
   "outputs": [
    {
     "data": {
      "text/html": [
       "<div>\n",
       "<style scoped>\n",
       "    .dataframe tbody tr th:only-of-type {\n",
       "        vertical-align: middle;\n",
       "    }\n",
       "\n",
       "    .dataframe tbody tr th {\n",
       "        vertical-align: top;\n",
       "    }\n",
       "\n",
       "    .dataframe thead tr th {\n",
       "        text-align: left;\n",
       "    }\n",
       "\n",
       "    .dataframe thead tr:last-of-type th {\n",
       "        text-align: right;\n",
       "    }\n",
       "</style>\n",
       "<table border=\"1\" class=\"dataframe\">\n",
       "  <thead>\n",
       "    <tr>\n",
       "      <th></th>\n",
       "      <th></th>\n",
       "      <th colspan=\"2\" halign=\"left\">concentration</th>\n",
       "    </tr>\n",
       "    <tr>\n",
       "      <th></th>\n",
       "      <th></th>\n",
       "      <th>mean</th>\n",
       "      <th>std</th>\n",
       "    </tr>\n",
       "    <tr>\n",
       "      <th>lipid</th>\n",
       "      <th>group</th>\n",
       "      <th></th>\n",
       "      <th></th>\n",
       "    </tr>\n",
       "  </thead>\n",
       "  <tbody>\n",
       "    <tr>\n",
       "      <th rowspan=\"2\" valign=\"top\">CL 72:8</th>\n",
       "      <th>control</th>\n",
       "      <td>0.867482</td>\n",
       "      <td>0.281953</td>\n",
       "    </tr>\n",
       "    <tr>\n",
       "      <th>treatment</th>\n",
       "      <td>0.885385</td>\n",
       "      <td>0.313753</td>\n",
       "    </tr>\n",
       "    <tr>\n",
       "      <th rowspan=\"2\" valign=\"top\">Cer 18:1/18:0</th>\n",
       "      <th>control</th>\n",
       "      <td>1.086309</td>\n",
       "      <td>0.289239</td>\n",
       "    </tr>\n",
       "    <tr>\n",
       "      <th>treatment</th>\n",
       "      <td>0.999366</td>\n",
       "      <td>0.342935</td>\n",
       "    </tr>\n",
       "    <tr>\n",
       "      <th>DAG 16:0_16:1</th>\n",
       "      <th>control</th>\n",
       "      <td>0.168877</td>\n",
       "      <td>0.061998</td>\n",
       "    </tr>\n",
       "    <tr>\n",
       "      <th>...</th>\n",
       "      <th>...</th>\n",
       "      <td>...</td>\n",
       "      <td>...</td>\n",
       "    </tr>\n",
       "    <tr>\n",
       "      <th>TAG 58:6</th>\n",
       "      <th>treatment</th>\n",
       "      <td>2.339417</td>\n",
       "      <td>0.622380</td>\n",
       "    </tr>\n",
       "    <tr>\n",
       "      <th rowspan=\"2\" valign=\"top\">TAG 58:7</th>\n",
       "      <th>control</th>\n",
       "      <td>0.298150</td>\n",
       "      <td>0.083205</td>\n",
       "    </tr>\n",
       "    <tr>\n",
       "      <th>treatment</th>\n",
       "      <td>4.019599</td>\n",
       "      <td>1.468739</td>\n",
       "    </tr>\n",
       "    <tr>\n",
       "      <th rowspan=\"2\" valign=\"top\">TAG 58:8</th>\n",
       "      <th>control</th>\n",
       "      <td>0.449591</td>\n",
       "      <td>0.119082</td>\n",
       "    </tr>\n",
       "    <tr>\n",
       "      <th>treatment</th>\n",
       "      <td>8.410113</td>\n",
       "      <td>1.535648</td>\n",
       "    </tr>\n",
       "  </tbody>\n",
       "</table>\n",
       "<p>670 rows × 2 columns</p>\n",
       "</div>"
      ],
      "text/plain": [
       "                        concentration          \n",
       "                                 mean       std\n",
       "lipid         group                            \n",
       "CL 72:8       control        0.867482  0.281953\n",
       "              treatment      0.885385  0.313753\n",
       "Cer 18:1/18:0 control        1.086309  0.289239\n",
       "              treatment      0.999366  0.342935\n",
       "DAG 16:0_16:1 control        0.168877  0.061998\n",
       "...                               ...       ...\n",
       "TAG 58:6      treatment      2.339417  0.622380\n",
       "TAG 58:7      control        0.298150  0.083205\n",
       "              treatment      4.019599  1.468739\n",
       "TAG 58:8      control        0.449591  0.119082\n",
       "              treatment      8.410113  1.535648\n",
       "\n",
       "[670 rows x 2 columns]"
      ]
     },
     "execution_count": 5,
     "metadata": {},
     "output_type": "execute_result"
    }
   ],
   "source": [
    "data.groupby(['lipid','group']).agg({'concentration' : ['mean','std']})"
   ]
  },
  {
   "cell_type": "markdown",
   "metadata": {},
   "source": [
    "### Data visualisation\n",
    "\n",
    "It is always a good idea to plot the data in addition to inspecting the raw data. Here, we review the group differences of all measurements by box plots."
   ]
  },
  {
   "cell_type": "code",
   "execution_count": 6,
   "metadata": {
    "ExecuteTime": {
     "end_time": "2021-01-15T11:04:14.944807Z",
     "start_time": "2021-01-15T11:04:12.052414Z"
    }
   },
   "outputs": [
    {
     "name": "stderr",
     "output_type": "stream",
     "text": [
      "No handles with labels found to put in legend.\n"
     ]
    },
    {
     "data": {
      "image/png": "[encoded data removed]",
      "text/plain": [
       "<Figure size 864x2016 with 24 Axes>"
      ]
     },
     "metadata": {
      "needs_background": "light"
     },
     "output_type": "display_data"
    }
   ],
   "source": [
    "grouped = data.loc[data['lipid'].str.contains(\"22:6\"), ['lipid', 'group', 'concentration']].groupby('lipid')\n",
    "\n",
    "ncols=3\n",
    "nrows = int(math.ceil(grouped.ngroups/ncols))\n",
    "\n",
    "fig, axes = plt.subplots(nrows=nrows, ncols=ncols, figsize=(12,28)) #, sharey=True)\n",
    "\n",
    "for (key, ax) in zip(grouped.groups.keys(), axes.flatten()):\n",
    "    tmp = grouped.get_group(key).boxplot(by='group', ax=ax, return_type='both', patch_artist=True)\n",
    "    for row_key, (ax,row) in tmp.iteritems():\n",
    "        ax.set_title(key)\n",
    "        ax.set_xlabel('')\n",
    "    \n",
    "        colors = ['cornflowerblue', 'orange']\n",
    "        for i,box in enumerate(row['boxes']):\n",
    "            box.set_facecolor(colors[i])\n",
    "\n",
    "ax.legend()\n",
    "plt.show()"
   ]
  },
  {
   "cell_type": "markdown",
   "metadata": {},
   "source": [
    "## Data analysis\n",
    "\n",
    "### Compare groups\n",
    "\n",
    "Metabolomics data often have a log-normal distribution, i.e. the log(data) is normally distributed. We just assume this here (without any test).\n",
    "\n",
    "We extract the p-values from the test results. "
   ]
  },
  {
   "cell_type": "code",
   "execution_count": 7,
   "metadata": {
    "ExecuteTime": {
     "end_time": "2021-01-15T11:04:16.878565Z",
     "start_time": "2021-01-15T11:04:14.946164Z"
    }
   },
   "outputs": [
    {
     "data": {
      "text/html": [
       "<div>\n",
       "<style scoped>\n",
       "    .dataframe tbody tr th:only-of-type {\n",
       "        vertical-align: middle;\n",
       "    }\n",
       "\n",
       "    .dataframe tbody tr th {\n",
       "        vertical-align: top;\n",
       "    }\n",
       "\n",
       "    .dataframe thead th {\n",
       "        text-align: right;\n",
       "    }\n",
       "</style>\n",
       "<table border=\"1\" class=\"dataframe\">\n",
       "  <thead>\n",
       "    <tr style=\"text-align: right;\">\n",
       "      <th></th>\n",
       "      <th>lipid</th>\n",
       "      <th>p_ttest_log</th>\n",
       "      <th>p_wil</th>\n",
       "    </tr>\n",
       "  </thead>\n",
       "  <tbody>\n",
       "    <tr>\n",
       "      <th>0</th>\n",
       "      <td>CL 72:8</td>\n",
       "      <td>9.570071e-01</td>\n",
       "      <td>0.314743</td>\n",
       "    </tr>\n",
       "    <tr>\n",
       "      <th>1</th>\n",
       "      <td>Cer 18:1/18:0</td>\n",
       "      <td>3.564203e-01</td>\n",
       "      <td>0.210674</td>\n",
       "    </tr>\n",
       "    <tr>\n",
       "      <th>2</th>\n",
       "      <td>DAG 16:0_16:1</td>\n",
       "      <td>2.368264e-01</td>\n",
       "      <td>0.197654</td>\n",
       "    </tr>\n",
       "    <tr>\n",
       "      <th>3</th>\n",
       "      <td>DAG 16:0_18:1</td>\n",
       "      <td>6.554461e-01</td>\n",
       "      <td>0.382600</td>\n",
       "    </tr>\n",
       "    <tr>\n",
       "      <th>4</th>\n",
       "      <td>DAG 16:0_18:2</td>\n",
       "      <td>4.756618e-01</td>\n",
       "      <td>0.210674</td>\n",
       "    </tr>\n",
       "    <tr>\n",
       "      <th>...</th>\n",
       "      <td>...</td>\n",
       "      <td>...</td>\n",
       "      <td>...</td>\n",
       "    </tr>\n",
       "    <tr>\n",
       "      <th>330</th>\n",
       "      <td>TAG 56:8</td>\n",
       "      <td>3.218940e-18</td>\n",
       "      <td>0.000004</td>\n",
       "    </tr>\n",
       "    <tr>\n",
       "      <th>331</th>\n",
       "      <td>TAG 58:5</td>\n",
       "      <td>9.165438e-10</td>\n",
       "      <td>0.000004</td>\n",
       "    </tr>\n",
       "    <tr>\n",
       "      <th>332</th>\n",
       "      <td>TAG 58:6</td>\n",
       "      <td>1.884576e-18</td>\n",
       "      <td>0.000004</td>\n",
       "    </tr>\n",
       "    <tr>\n",
       "      <th>333</th>\n",
       "      <td>TAG 58:7</td>\n",
       "      <td>9.717456e-19</td>\n",
       "      <td>0.000004</td>\n",
       "    </tr>\n",
       "    <tr>\n",
       "      <th>334</th>\n",
       "      <td>TAG 58:8</td>\n",
       "      <td>3.621242e-22</td>\n",
       "      <td>0.000004</td>\n",
       "    </tr>\n",
       "  </tbody>\n",
       "</table>\n",
       "<p>335 rows × 3 columns</p>\n",
       "</div>"
      ],
      "text/plain": [
       "             lipid   p_ttest_log     p_wil\n",
       "0          CL 72:8  9.570071e-01  0.314743\n",
       "1    Cer 18:1/18:0  3.564203e-01  0.210674\n",
       "2    DAG 16:0_16:1  2.368264e-01  0.197654\n",
       "3    DAG 16:0_18:1  6.554461e-01  0.382600\n",
       "4    DAG 16:0_18:2  4.756618e-01  0.210674\n",
       "..             ...           ...       ...\n",
       "330       TAG 56:8  3.218940e-18  0.000004\n",
       "331       TAG 58:5  9.165438e-10  0.000004\n",
       "332       TAG 58:6  1.884576e-18  0.000004\n",
       "333       TAG 58:7  9.717456e-19  0.000004\n",
       "334       TAG 58:8  3.621242e-22  0.000004\n",
       "\n",
       "[335 rows x 3 columns]"
      ]
     },
     "execution_count": 7,
     "metadata": {},
     "output_type": "execute_result"
    }
   ],
   "source": [
    "data_per_lipid = {x:y for x, y in data.groupby('lipid', as_index=False)}\n",
    "\n",
    "p_values = pd.DataFrame(columns=[\"lipid\", \"p_ttest_log\", \"p_wil\"])\n",
    "\n",
    "for lipid, df in data_per_lipid.items():\n",
    "    p_ttest_log = stats.ttest_ind(np.log(df[df['group']=='control']['concentration']),\n",
    "                    np.log(df[df['group']=='treatment']['concentration'])).pvalue\n",
    "    \n",
    "    p_wil = stats.mannwhitneyu(df[df['group']=='control']['concentration'],\n",
    "                          df[df['group']=='treatment']['concentration']).pvalue\n",
    "    \n",
    "    p_values = p_values.append({\n",
    "     \"lipid\": lipid,\n",
    "     \"p_ttest_log\":  p_ttest_log,\n",
    "     \"p_wil\" : p_wil\n",
    "      }, ignore_index=True)\n",
    "    \n",
    "p_values"
   ]
  },
  {
   "cell_type": "markdown",
   "metadata": {
    "ExecuteTime": {
     "end_time": "2020-12-01T12:57:59.296113Z",
     "start_time": "2020-12-01T12:57:59.277885Z"
    }
   },
   "source": [
    "#### Some necessary background information about multiple statistical tests and correction\n",
    "p-values are random variables. Mathematically, one can demonstrate that under the null hypothesis (and some assumptions are met, in this case, the test statistic t follows standard normal distribution), p-values follow a uniform (0,1) distribution. How do we control the false positives for multiple comparisons? One way is to use the Bonferroni correction to correct the familywise error rate (FWER): define a particular comparison as statistically significant only when the P value is less than alpha (often 0.05) divided by the number of comparisons:\n",
    "\n",
    "$$ p < \\frac{\\alpha}{m} $$\n",
    "\n",
    "This approach is very conservative and this threshold will be very small the more comparisons are made. The “BH” (aka “fdr”) method of Benjamini, Hochberg control the false discovery rate, the expected proportion of false discoveries amongst the rejected hypotheses. The false discovery rate is a less stringent condition than the family-wise error rate, so these methods are more powerful than the others. \n",
    "\n",
    "### Distribution of p-values\n",
    "Here, we made 335 comparisons, i.e. 335 individual tests were performed. Have a look at the distribution of the p- values."
   ]
  },
  {
   "cell_type": "code",
   "execution_count": 8,
   "metadata": {
    "ExecuteTime": {
     "end_time": "2021-01-15T11:04:17.143353Z",
     "start_time": "2021-01-15T11:04:16.880345Z"
    }
   },
   "outputs": [
    {
     "data": {
      "text/plain": [
       "array([[<AxesSubplot:title={'center':'p_ttest_log'}>,\n",
       "        <AxesSubplot:title={'center':'p_wil'}>]], dtype=object)"
      ]
     },
     "execution_count": 8,
     "metadata": {},
     "output_type": "execute_result"
    },
    {
     "data": {
      "image/png": "[encoded data removed]",
      "text/plain": [
       "<Figure size 432x288 with 2 Axes>"
      ]
     },
     "metadata": {
      "needs_background": "light"
     },
     "output_type": "display_data"
    }
   ],
   "source": [
    "p_values.hist()"
   ]
  },
  {
   "cell_type": "markdown",
   "metadata": {
    "ExecuteTime": {
     "end_time": "2020-12-01T12:58:56.001685Z",
     "start_time": "2020-12-01T12:58:55.993703Z"
    }
   },
   "source": [
    "### Correction for multiple tests\n",
    "There are 222 of the 335 lipids with a p-value < 0.05, have all of them statistically different concentrations in treatment vs. control? NO! We need to limit the family-wise error rate, one approach is to apply the Bonferroni adjustment, i.e. to decrease the individual error rate to:\n",
    "\n",
    "$$ p < \\frac{\\alpha}{m} = \\frac{0.05}{335}=0.000149 $$\n",
    "\n",
    "However, here we control the False Discovery Rate (FDR) and limit the number of false positives to some value.\n",
    "\n",
    "We can use a function `multipletests` from the `statsmodels` package."
   ]
  },
  {
   "cell_type": "code",
   "execution_count": 9,
   "metadata": {
    "ExecuteTime": {
     "end_time": "2021-01-15T11:04:17.163170Z",
     "start_time": "2021-01-15T11:04:17.146681Z"
    }
   },
   "outputs": [
    {
     "data": {
      "text/html": [
       "<div>\n",
       "<style scoped>\n",
       "    .dataframe tbody tr th:only-of-type {\n",
       "        vertical-align: middle;\n",
       "    }\n",
       "\n",
       "    .dataframe tbody tr th {\n",
       "        vertical-align: top;\n",
       "    }\n",
       "\n",
       "    .dataframe thead th {\n",
       "        text-align: right;\n",
       "    }\n",
       "</style>\n",
       "<table border=\"1\" class=\"dataframe\">\n",
       "  <thead>\n",
       "    <tr style=\"text-align: right;\">\n",
       "      <th></th>\n",
       "      <th>lipid</th>\n",
       "      <th>p_ttest_log</th>\n",
       "      <th>p_wil</th>\n",
       "      <th>p_ttest_log_corrected</th>\n",
       "    </tr>\n",
       "  </thead>\n",
       "  <tbody>\n",
       "    <tr>\n",
       "      <th>0</th>\n",
       "      <td>CL 72:8</td>\n",
       "      <td>9.570071e-01</td>\n",
       "      <td>0.314743</td>\n",
       "      <td>9.632615e-01</td>\n",
       "    </tr>\n",
       "    <tr>\n",
       "      <th>1</th>\n",
       "      <td>Cer 18:1/18:0</td>\n",
       "      <td>3.564203e-01</td>\n",
       "      <td>0.210674</td>\n",
       "      <td>4.592338e-01</td>\n",
       "    </tr>\n",
       "    <tr>\n",
       "      <th>2</th>\n",
       "      <td>DAG 16:0_16:1</td>\n",
       "      <td>2.368264e-01</td>\n",
       "      <td>0.197654</td>\n",
       "      <td>3.160831e-01</td>\n",
       "    </tr>\n",
       "    <tr>\n",
       "      <th>3</th>\n",
       "      <td>DAG 16:0_18:1</td>\n",
       "      <td>6.554461e-01</td>\n",
       "      <td>0.382600</td>\n",
       "      <td>7.418055e-01</td>\n",
       "    </tr>\n",
       "    <tr>\n",
       "      <th>4</th>\n",
       "      <td>DAG 16:0_18:2</td>\n",
       "      <td>4.756618e-01</td>\n",
       "      <td>0.210674</td>\n",
       "      <td>5.752588e-01</td>\n",
       "    </tr>\n",
       "    <tr>\n",
       "      <th>...</th>\n",
       "      <td>...</td>\n",
       "      <td>...</td>\n",
       "      <td>...</td>\n",
       "      <td>...</td>\n",
       "    </tr>\n",
       "    <tr>\n",
       "      <th>330</th>\n",
       "      <td>TAG 56:8</td>\n",
       "      <td>3.218940e-18</td>\n",
       "      <td>0.000004</td>\n",
       "      <td>1.797241e-16</td>\n",
       "    </tr>\n",
       "    <tr>\n",
       "      <th>331</th>\n",
       "      <td>TAG 58:5</td>\n",
       "      <td>9.165438e-10</td>\n",
       "      <td>0.000004</td>\n",
       "      <td>4.582719e-09</td>\n",
       "    </tr>\n",
       "    <tr>\n",
       "      <th>332</th>\n",
       "      <td>TAG 58:6</td>\n",
       "      <td>1.884576e-18</td>\n",
       "      <td>0.000004</td>\n",
       "      <td>1.262666e-16</td>\n",
       "    </tr>\n",
       "    <tr>\n",
       "      <th>333</th>\n",
       "      <td>TAG 58:7</td>\n",
       "      <td>9.717456e-19</td>\n",
       "      <td>0.000004</td>\n",
       "      <td>8.138369e-17</td>\n",
       "    </tr>\n",
       "    <tr>\n",
       "      <th>334</th>\n",
       "      <td>TAG 58:8</td>\n",
       "      <td>3.621242e-22</td>\n",
       "      <td>0.000004</td>\n",
       "      <td>1.213116e-19</td>\n",
       "    </tr>\n",
       "  </tbody>\n",
       "</table>\n",
       "<p>335 rows × 4 columns</p>\n",
       "</div>"
      ],
      "text/plain": [
       "             lipid   p_ttest_log     p_wil  p_ttest_log_corrected\n",
       "0          CL 72:8  9.570071e-01  0.314743           9.632615e-01\n",
       "1    Cer 18:1/18:0  3.564203e-01  0.210674           4.592338e-01\n",
       "2    DAG 16:0_16:1  2.368264e-01  0.197654           3.160831e-01\n",
       "3    DAG 16:0_18:1  6.554461e-01  0.382600           7.418055e-01\n",
       "4    DAG 16:0_18:2  4.756618e-01  0.210674           5.752588e-01\n",
       "..             ...           ...       ...                    ...\n",
       "330       TAG 56:8  3.218940e-18  0.000004           1.797241e-16\n",
       "331       TAG 58:5  9.165438e-10  0.000004           4.582719e-09\n",
       "332       TAG 58:6  1.884576e-18  0.000004           1.262666e-16\n",
       "333       TAG 58:7  9.717456e-19  0.000004           8.138369e-17\n",
       "334       TAG 58:8  3.621242e-22  0.000004           1.213116e-19\n",
       "\n",
       "[335 rows x 4 columns]"
      ]
     },
     "execution_count": 9,
     "metadata": {},
     "output_type": "execute_result"
    }
   ],
   "source": [
    "p_values['p_ttest_log_corrected'] = multipletests(p_values['p_ttest_log'], method='fdr_bh')[1]\n",
    "p_values"
   ]
  },
  {
   "cell_type": "code",
   "execution_count": 10,
   "metadata": {
    "ExecuteTime": {
     "end_time": "2021-01-15T11:04:17.201087Z",
     "start_time": "2021-01-15T11:04:17.165944Z"
    }
   },
   "outputs": [
    {
     "data": {
      "text/plain": [
       "array([[0.6873220001380118, 0.8758193254311857, 0.132841876794624, ...,\n",
       "        0.18725506647032342, 0.19076988022243835, 0.19838965732563132],\n",
       "       [0.557629401385373, 0.7849163433744979, 0.09560754116477324, ...,\n",
       "        0.28920135722879725, 0.3029633710117057, 0.3995350355839375],\n",
       "       [0.309768551545788, 0.8241604814430419, 0.07145489275594194, ...,\n",
       "        0.3639255573719691, 0.4984084055726741, 0.5528439807885388],\n",
       "       ...,\n",
       "       [0.8206503497563161, 1.0678818116582771, 0.13351472002707587, ...,\n",
       "        1.9865598857018878, 3.2513814693560232, 6.814896756496571],\n",
       "       [0.47935270565126686, 0.5535969215973086, 0.19350926074119412,\n",
       "        ..., 2.3155811333330005, 2.533736634336631, 8.879702876467444],\n",
       "       [1.0237093156853068, 1.1440104053222657, 0.14028967092285155, ...,\n",
       "        2.1731064794741366, 3.904729151054418, 8.721880964463447]],\n",
       "      dtype=object)"
      ]
     },
     "execution_count": 10,
     "metadata": {},
     "output_type": "execute_result"
    }
   ],
   "source": [
    "kmeans = KMeans(n_clusters=kmeans_k, n_init=25, init='random', algorithm='full', random_state=42)\n",
    "\n",
    "\n",
    "data_to_cluster = pd.pivot_table(data[['sample','group','lipid','concentration']], \n",
    "                                 index=['sample','group'], \n",
    "                                 columns=['lipid'])\n",
    "data_to_cluster.reset_index(level=['group','sample'], inplace=True)\n",
    "data_to_cluster.values[:,2:]"
   ]
  },
  {
   "cell_type": "code",
   "execution_count": 11,
   "metadata": {
    "ExecuteTime": {
     "end_time": "2021-01-15T11:04:17.386562Z",
     "start_time": "2021-01-15T11:04:17.204002Z"
    }
   },
   "outputs": [
    {
     "data": {
      "text/html": [
       "<div>\n",
       "<style scoped>\n",
       "    .dataframe tbody tr th:only-of-type {\n",
       "        vertical-align: middle;\n",
       "    }\n",
       "\n",
       "    .dataframe tbody tr th {\n",
       "        vertical-align: top;\n",
       "    }\n",
       "\n",
       "    .dataframe thead tr th {\n",
       "        text-align: left;\n",
       "    }\n",
       "</style>\n",
       "<table border=\"1\" class=\"dataframe\">\n",
       "  <thead>\n",
       "    <tr>\n",
       "      <th></th>\n",
       "      <th>group</th>\n",
       "      <th>cluster</th>\n",
       "    </tr>\n",
       "    <tr>\n",
       "      <th>lipid</th>\n",
       "      <th></th>\n",
       "      <th></th>\n",
       "    </tr>\n",
       "  </thead>\n",
       "  <tbody>\n",
       "    <tr>\n",
       "      <th>0</th>\n",
       "      <td>control</td>\n",
       "      <td>1</td>\n",
       "    </tr>\n",
       "    <tr>\n",
       "      <th>1</th>\n",
       "      <td>control</td>\n",
       "      <td>1</td>\n",
       "    </tr>\n",
       "    <tr>\n",
       "      <th>2</th>\n",
       "      <td>control</td>\n",
       "      <td>0</td>\n",
       "    </tr>\n",
       "    <tr>\n",
       "      <th>3</th>\n",
       "      <td>control</td>\n",
       "      <td>1</td>\n",
       "    </tr>\n",
       "    <tr>\n",
       "      <th>4</th>\n",
       "      <td>control</td>\n",
       "      <td>1</td>\n",
       "    </tr>\n",
       "    <tr>\n",
       "      <th>5</th>\n",
       "      <td>control</td>\n",
       "      <td>1</td>\n",
       "    </tr>\n",
       "    <tr>\n",
       "      <th>6</th>\n",
       "      <td>control</td>\n",
       "      <td>1</td>\n",
       "    </tr>\n",
       "    <tr>\n",
       "      <th>7</th>\n",
       "      <td>control</td>\n",
       "      <td>0</td>\n",
       "    </tr>\n",
       "    <tr>\n",
       "      <th>8</th>\n",
       "      <td>control</td>\n",
       "      <td>0</td>\n",
       "    </tr>\n",
       "    <tr>\n",
       "      <th>9</th>\n",
       "      <td>control</td>\n",
       "      <td>0</td>\n",
       "    </tr>\n",
       "    <tr>\n",
       "      <th>10</th>\n",
       "      <td>control</td>\n",
       "      <td>0</td>\n",
       "    </tr>\n",
       "    <tr>\n",
       "      <th>11</th>\n",
       "      <td>control</td>\n",
       "      <td>0</td>\n",
       "    </tr>\n",
       "    <tr>\n",
       "      <th>12</th>\n",
       "      <td>control</td>\n",
       "      <td>1</td>\n",
       "    </tr>\n",
       "    <tr>\n",
       "      <th>13</th>\n",
       "      <td>control</td>\n",
       "      <td>1</td>\n",
       "    </tr>\n",
       "    <tr>\n",
       "      <th>14</th>\n",
       "      <td>treatment</td>\n",
       "      <td>0</td>\n",
       "    </tr>\n",
       "    <tr>\n",
       "      <th>15</th>\n",
       "      <td>treatment</td>\n",
       "      <td>1</td>\n",
       "    </tr>\n",
       "    <tr>\n",
       "      <th>16</th>\n",
       "      <td>treatment</td>\n",
       "      <td>1</td>\n",
       "    </tr>\n",
       "    <tr>\n",
       "      <th>17</th>\n",
       "      <td>treatment</td>\n",
       "      <td>1</td>\n",
       "    </tr>\n",
       "    <tr>\n",
       "      <th>18</th>\n",
       "      <td>treatment</td>\n",
       "      <td>1</td>\n",
       "    </tr>\n",
       "    <tr>\n",
       "      <th>19</th>\n",
       "      <td>treatment</td>\n",
       "      <td>1</td>\n",
       "    </tr>\n",
       "    <tr>\n",
       "      <th>20</th>\n",
       "      <td>treatment</td>\n",
       "      <td>1</td>\n",
       "    </tr>\n",
       "    <tr>\n",
       "      <th>21</th>\n",
       "      <td>treatment</td>\n",
       "      <td>1</td>\n",
       "    </tr>\n",
       "    <tr>\n",
       "      <th>22</th>\n",
       "      <td>treatment</td>\n",
       "      <td>1</td>\n",
       "    </tr>\n",
       "    <tr>\n",
       "      <th>23</th>\n",
       "      <td>treatment</td>\n",
       "      <td>1</td>\n",
       "    </tr>\n",
       "    <tr>\n",
       "      <th>24</th>\n",
       "      <td>treatment</td>\n",
       "      <td>0</td>\n",
       "    </tr>\n",
       "    <tr>\n",
       "      <th>25</th>\n",
       "      <td>treatment</td>\n",
       "      <td>0</td>\n",
       "    </tr>\n",
       "    <tr>\n",
       "      <th>26</th>\n",
       "      <td>treatment</td>\n",
       "      <td>0</td>\n",
       "    </tr>\n",
       "    <tr>\n",
       "      <th>27</th>\n",
       "      <td>treatment</td>\n",
       "      <td>1</td>\n",
       "    </tr>\n",
       "  </tbody>\n",
       "</table>\n",
       "</div>"
      ],
      "text/plain": [
       "           group cluster\n",
       "lipid                   \n",
       "0        control       1\n",
       "1        control       1\n",
       "2        control       0\n",
       "3        control       1\n",
       "4        control       1\n",
       "5        control       1\n",
       "6        control       1\n",
       "7        control       0\n",
       "8        control       0\n",
       "9        control       0\n",
       "10       control       0\n",
       "11       control       0\n",
       "12       control       1\n",
       "13       control       1\n",
       "14     treatment       0\n",
       "15     treatment       1\n",
       "16     treatment       1\n",
       "17     treatment       1\n",
       "18     treatment       1\n",
       "19     treatment       1\n",
       "20     treatment       1\n",
       "21     treatment       1\n",
       "22     treatment       1\n",
       "23     treatment       1\n",
       "24     treatment       0\n",
       "25     treatment       0\n",
       "26     treatment       0\n",
       "27     treatment       1"
      ]
     },
     "execution_count": 11,
     "metadata": {},
     "output_type": "execute_result"
    }
   ],
   "source": [
    "data_to_cluster['cluster'] = kmeans.fit_predict(data_to_cluster.values[:,2:])\n",
    "\n",
    "data_to_cluster[['group','cluster']]"
   ]
  },
  {
   "cell_type": "markdown",
   "metadata": {
    "ExecuteTime": {
     "end_time": "2020-12-01T13:00:43.033292Z",
     "start_time": "2020-12-01T13:00:43.019950Z"
    }
   },
   "source": [
    "### Cluster visualization\n",
    "\n",
    "To effectively visualize, whether the clustering allows us for some unsupervised grouping, we reduce the number of dimension to 2, which allows us to use a 2-dimensional scatter plot. To this end, we use a principal component analysis and select the two dimension that contain the highest variance. These dimensions are then plotted against each other."
   ]
  },
  {
   "cell_type": "code",
   "execution_count": 12,
   "metadata": {
    "ExecuteTime": {
     "end_time": "2021-01-15T11:04:17.727764Z",
     "start_time": "2021-01-15T11:04:17.388212Z"
    }
   },
   "outputs": [
    {
     "data": {
      "image/png": "[encoded data removed]",
      "text/plain": [
       "<Figure size 1080x1080 with 1 Axes>"
      ]
     },
     "metadata": {
      "needs_background": "light"
     },
     "output_type": "display_data"
    }
   ],
   "source": [
    "pca = PCA(n_components=2)\n",
    "data_pca = pca.fit_transform(data_to_cluster.values[:,2:])\n",
    "\n",
    "df_transformed = pd.DataFrame(data_pca, columns=['x', 'y'])\n",
    "df_transformed['cluster'] = list(data_to_cluster['cluster'])\n",
    "df_transformed['group'] = list(data_to_cluster['group'])\n",
    "df_transformed\n",
    "\n",
    "\n",
    "plt.figure(figsize=(15, 15))\n",
    "ax = sns.scatterplot(data=df_transformed, x=\"x\", y=\"y\", hue=\"cluster\", style='group', s=200)"
   ]
  },
  {
   "cell_type": "markdown",
   "metadata": {},
   "source": [
    "### Conclusion\n",
    "From the plot, two observations can be found:\n",
    "* both groups `control` and `treatment` can be distinguished, and\n",
    "* the `kmeans` clustering did not find this grouping, but another\n",
    "\n",
    "We could now use supervised learning and feature selection approaches to identify the measurements that provide us the most important differences. However, as this notebook is just for demonstration purposes, we leave this for the interested reader. 😉"
   ]
  },
  {
   "cell_type": "code",
   "execution_count": null,
   "metadata": {},
   "outputs": [],
   "source": []
  }
 ],
 "metadata": {
  "celltoolbar": "Tags",
  "kernelspec": {
   "display_name": "Python 3",
   "language": "python",
   "name": "python3"
  },
  "language_info": {
   "codemirror_mode": {
    "name": "ipython",
    "version": 3
   },
   "file_extension": ".py",
   "mimetype": "text/x-python",
   "name": "python",
   "nbconvert_exporter": "python",
   "pygments_lexer": "ipython3",
   "version": "3.8.6"
  },
  "latex_envs": {
   "LaTeX_envs_menu_present": true,
   "autoclose": false,
   "autocomplete": true,
   "bibliofile": "biblio.bib",
   "cite_by": "apalike",
   "current_citInitial": 1,
   "eqLabelWithNumbers": true,
   "eqNumInitial": 1,
   "hotkeys": {
    "equation": "Ctrl-E",
    "itemize": "Ctrl-I"
   },
   "labels_anchors": false,
   "latex_user_defs": false,
   "report_style_numbering": false,
   "user_envs_cfg": false
  },
  "toc": {
   "base_numbering": 1,
   "nav_menu": {},
   "number_sections": true,
   "sideBar": true,
   "skip_h1_title": false,
   "title_cell": "Table of Contents",
   "title_sidebar": "Contents",
   "toc_cell": false,
   "toc_position": {},
   "toc_section_display": true,
   "toc_window_display": true
  },
  "varInspector": {
   "cols": {
    "lenName": 16,
    "lenType": 16,
    "lenVar": 40
   },
   "kernels_config": {
    "python": {
     "delete_cmd_postfix": "",
     "delete_cmd_prefix": "del ",
     "library": "var_list.py",
     "varRefreshCmd": "print(var_dic_list())"
    },
    "r": {
     "delete_cmd_postfix": ") ",
     "delete_cmd_prefix": "rm(",
     "library": "var_list.r",
     "varRefreshCmd": "cat(var_dic_list()) "
    }
   },
   "position": {
    "height": "727.844px",
    "left": "1462px",
    "right": "20px",
    "top": "115px",
    "width": "375px"
   },
   "types_to_exclude": [
    "module",
    "function",
    "builtin_function_or_method",
    "instance",
    "_Feature"
   ],
   "window_display": true
  }
 },
 "nbformat": 4,
 "nbformat_minor": 4
}
